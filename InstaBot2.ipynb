{
 "cells": [
  {
   "cell_type": "code",
   "execution_count": 1,
   "metadata": {},
   "outputs": [],
   "source": [
    "from selenium import webdriver\n",
    "from selenium.webdriver.common.keys import Keys\n",
    "from selenium.common.exceptions import NoSuchElementException\n",
    "from selenium.common.exceptions import ElementClickInterceptedException\n",
    "from selenium.webdriver.common.by import By\n",
    "from selenium.webdriver.support.ui import WebDriverWait\n",
    "from selenium.webdriver.support import expected_conditions as EC\n",
    "from selenium.webdriver.common.action_chains import ActionChains\n",
    "from bs4 import BeautifulSoup\n",
    "import pandas as pd\n",
    "import numpy as np\n",
    "import time\n",
    "from nltk.tokenize import word_tokenize,regexp_tokenize"
   ]
  },
  {
   "cell_type": "code",
   "execution_count": 5,
   "metadata": {},
   "outputs": [
    {
     "data": {
      "text/plain": [
       "'C:\\\\Users\\\\HP\\\\Desktop\\\\project\\\\Insta Bot'"
      ]
     },
     "execution_count": 5,
     "metadata": {},
     "output_type": "execute_result"
    }
   ],
   "source": [
    "import os \n",
    "os.getcwd()"
   ]
  },
  {
   "cell_type": "code",
   "execution_count": 6,
   "metadata": {},
   "outputs": [],
   "source": [
    "driver=webdriver.Chrome(executable_path='C:\\\\Users\\\\HP\\\\Downloads\\\\chromedriver')"
   ]
  },
  {
   "cell_type": "code",
   "execution_count": 7,
   "metadata": {},
   "outputs": [],
   "source": [
    "driver.get(\"https://www.instagram.com/\")\n",
    "time.sleep(2)"
   ]
  },
  {
   "cell_type": "code",
   "execution_count": 4,
   "metadata": {},
   "outputs": [
    {
     "data": {
      "text/plain": [
       "'CDwindow-67E9BBC24CAD923FAED56BFBE1D7DF04'"
      ]
     },
     "execution_count": 4,
     "metadata": {},
     "output_type": "execute_result"
    }
   ],
   "source": [
    "def signIn(username,password):\n",
    "    try:\n",
    "        userNamePassBtns=driver.find_elements_by_css_selector(\"input\")\n",
    "        userNamePassBtns[0].send_keys(username)\n",
    "        userNamePassBtns[1].send_keys(password)\n",
    "        userNamePassBtns[1].send_keys(Keys.ENTER)\n",
    "    except:\n",
    "        print(\"ALready Signed In\")\n",
    "\n",
    "        \n",
    "def turnOnNotification(turn_on):\n",
    "    try:\n",
    "        alert_obj=driver.find_elements_by_xpath(\"//button[contains(@class,'aOOlW')]\")\n",
    "        if turn_on:\n",
    "            alert_obj[0].click()\n",
    "        else :\n",
    "            alert_obj[1].click()\n",
    "    except:\n",
    "        print(\"No Turn_on_notification PopUp\")\n",
    "        \n",
    "\n",
    "##TASK 1\n",
    "signIn(\"USERNAME\",\"PASSWORD\")\n",
    "time.sleep(2)\n",
    "turnOnNotification(False)\n",
    "driver.current_window_handle"
   ]
  },
  {
   "cell_type": "code",
   "execution_count": 5,
   "metadata": {},
   "outputs": [
    {
     "name": "stdout",
     "output_type": "stream",
     "text": [
      "No Turn_on_notification PopUp\n",
      "50\n",
      "['foodtalkindia', 'foodnetwork', 'food', 'buzzfeedfood', 'food.marine', 'foodnetworkkitchen', 'dilsefoodie', 'sweety.foody', 'Horn Ok Please - Food Truck Festival', 'Fun N Food Village', 'BFF - Beer Food Feast', 'cooking.room', 'foodytops', 'theauthenticfoodstories', 'food.junktion', 'karanfoodfanatic', 'foodtalkglobal', 'food_lunatic', 'foodandwine', 'foodiesince96', 'yourfoodlab', 'foodieinboots', 'foodhallindia', 'foodinsider', 'food2goodbypriti', 'foodiesofindia', 'food_gambler', 'food_funda405060', 'delhifoodguide', 'foodie_incarnate', 'foodzaara', 'foodconnectindia', 'foodpandaindia', 'foodpandapooja', 'food_with_lazra', 'foodchoiceofmumbai', 'fuhnfood', 'food.os', 'food_era_', 'food_come_to_me', 'mumbaifoodie', 'food_blogger290', 'foodbloggerai', 'food_food_surat', 'foodtrails.india', 'food.sector', 'foodiewithluv', 'food_lover_journey', 'foodiedilse', 'kolkatafoodie']\n"
     ]
    }
   ],
   "source": [
    "def searchForHandles(handle):\n",
    "    driver.get(\"https://www.instagram.com/\")\n",
    "    turnOnNotification(False)\n",
    "    wait=WebDriverWait(driver,10)\n",
    "    searchBtn=wait.until(EC.presence_of_element_located((By.XPATH,\"//input[contains(@class,'XTCLo')]\")))\n",
    "    searchBtn.clear()\n",
    "    searchBtn.send_keys(handle)\n",
    "    time.sleep(1.5)\n",
    "    handles=driver.find_elements_by_class_name(\"Ap253\")\n",
    "    handleNames=[]\n",
    "    #print(len(handnles))\n",
    "    for i in handles:\n",
    "        a=i.text\n",
    "        if(a[0]!='#'):\n",
    "            handleNames.append(a)\n",
    "    return handleNames\n",
    "\n",
    "listOfHandles=searchForHandles(\"food\")\n",
    "print(len(listOfHandles))\n",
    "print(listOfHandles)"
   ]
  },
  {
   "cell_type": "code",
   "execution_count": 6,
   "metadata": {},
   "outputs": [],
   "source": [
    "def openAhandle(handle):\n",
    "    driver.get(\"https://www.instagram.com/\"+handle+\"/\")"
   ]
  },
  {
   "cell_type": "code",
   "execution_count": 7,
   "metadata": {},
   "outputs": [],
   "source": [
    "########################################################################################################\n",
    "########################################################################################################\n",
    "##############INSTA BOT PART_2\n",
    "########################################################################################################\n",
    "########################################################################################################\n"
   ]
  },
  {
   "cell_type": "code",
   "execution_count": 8,
   "metadata": {},
   "outputs": [],
   "source": [
    "##########################################################################\n",
    "###### TASK1\n",
    "##########################################################################\n",
    "# Now your friend has followed a lot of different food bloggers, he needs to analyse the habits of these bloggers.\n",
    "# From the list of instagram handles you obtained when you searched ‘food’ in previous project.\n",
    "# Open the first 10 handles and find the top 5 which have the highest number of followers\n",
    "# Now Find the number of posts these handles have done in the previous 3 days.\n",
    "# Depict this information using a suitable graph."
   ]
  },
  {
   "cell_type": "code",
   "execution_count": 9,
   "metadata": {},
   "outputs": [],
   "source": [
    "def getCountFollowers(handle):\n",
    "    openAhandle(handle)\n",
    "    return (driver.find_elements_by_class_name('g47SY ')[1].get_attribute('title'))"
   ]
  },
  {
   "cell_type": "code",
   "execution_count": 65,
   "metadata": {},
   "outputs": [],
   "source": [
    "followerCountS={}\n",
    "count=0\n",
    "ind=0\n",
    "while(count<10):\n",
    "    #print(listOfHandles[ind])\n",
    "    try:\n",
    "        followerCountS[listOfHandles[ind]]=(getCountFollowers(listOfHandles[ind]))\n",
    "        count+=1\n",
    "        ind+=1\n",
    "    except:\n",
    "        ind+=1"
   ]
  },
  {
   "cell_type": "code",
   "execution_count": 66,
   "metadata": {},
   "outputs": [
    {
     "name": "stdout",
     "output_type": "stream",
     "text": [
      "{'foodtalkindia': '294,403', 'foodnetwork': '10,314,387', 'food': '23,009', 'buzzfeedfood': '3,750,113', 'food.marine': '361,205', 'foodnetworkkitchen': '480,105', 'dilsefoodie': '424,479', 'sweety.foody': '259,736', 'cooking.room': '648,304', 'foodytops': '468,047'}\n"
     ]
    }
   ],
   "source": [
    "print(followerCountS)"
   ]
  },
  {
   "cell_type": "code",
   "execution_count": 67,
   "metadata": {},
   "outputs": [],
   "source": [
    "def convertIntoInt(val):\n",
    "    ans=0\n",
    "    for i in val:\n",
    "        if(i==','):\n",
    "            continue\n",
    "        ans*=10\n",
    "        ans+=(int(i))\n",
    "    return ans"
   ]
  },
  {
   "cell_type": "code",
   "execution_count": 68,
   "metadata": {},
   "outputs": [
    {
     "name": "stdout",
     "output_type": "stream",
     "text": [
      "{'foodtalkindia': 294403, 'foodnetwork': 10314387, 'food': 23009, 'buzzfeedfood': 3750113, 'food.marine': 361205, 'foodnetworkkitchen': 480105, 'dilsefoodie': 424479, 'sweety.foody': 259736, 'cooking.room': 648304, 'foodytops': 468047}\n"
     ]
    }
   ],
   "source": [
    "followerCount={}\n",
    "for i in followerCountS.keys():\n",
    "    followerCount[i]=convertIntoInt(followerCountS[i])\n",
    "print(followerCount)"
   ]
  },
  {
   "cell_type": "code",
   "execution_count": 69,
   "metadata": {},
   "outputs": [
    {
     "name": "stdout",
     "output_type": "stream",
     "text": [
      "Dictionary in descending order by Count value of followers:  {'foodnetwork': 10314387, 'buzzfeedfood': 3750113, 'cooking.room': 648304, 'foodnetworkkitchen': 480105, 'foodytops': 468047, 'dilsefoodie': 424479, 'food.marine': 361205, 'foodtalkindia': 294403, 'sweety.foody': 259736, 'food': 23009}\n"
     ]
    }
   ],
   "source": [
    "import operator\n",
    "followersCount = dict(sorted(followerCount.items(), key=operator.itemgetter(1),reverse=True))\n",
    "print('Dictionary in descending order by Count value of followers: ',followersCount)"
   ]
  },
  {
   "cell_type": "code",
   "execution_count": 70,
   "metadata": {},
   "outputs": [
    {
     "name": "stdout",
     "output_type": "stream",
     "text": [
      "foodnetwork :  10314387\n",
      "buzzfeedfood :  3750113\n",
      "cooking.room :  648304\n",
      "foodnetworkkitchen :  480105\n",
      "foodytops :  468047\n"
     ]
    }
   ],
   "source": [
    "# TOP 5 which have highest followers\n",
    "count=0\n",
    "for i in followersCount.keys():\n",
    "    print(i+\" : \",followersCount[i])\n",
    "    count+=1\n",
    "    if(count==5):\n",
    "        break"
   ]
  },
  {
   "cell_type": "code",
   "execution_count": 16,
   "metadata": {},
   "outputs": [],
   "source": [
    "from datetime import date,datetime \n",
    "  \n",
    "def numOfDays(date1, date2): \n",
    "    return (date2-date1).days "
   ]
  },
  {
   "cell_type": "code",
   "execution_count": 17,
   "metadata": {},
   "outputs": [],
   "source": [
    "def getCountOfPost(handle,days):\n",
    "    openAhandle(handle)\n",
    "    driver.maximize_window()\n",
    "    post1=driver.find_element_by_class_name(\"_9AhH0\")\n",
    "    post1.click()\n",
    "    count=0\n",
    "    wait=WebDriverWait(driver,2)\n",
    "    time=wait.until(EC.presence_of_element_located((By.CLASS_NAME,\"_1o9PC\")))\n",
    "    date1Str = time.get_attribute('datetime')[0:10]\n",
    "    date1 = datetime.strptime(date1Str, '%Y-%m-%d').date()\n",
    "    date2=date.today()\n",
    "    while(numOfDays(date1,date2)<=days):\n",
    "        count+=1\n",
    "        try:\n",
    "            wait=WebDriverWait(driver,2)\n",
    "            time=wait.until(EC.presence_of_element_located((By.CLASS_NAME,\"_1o9PC\")))\n",
    "            date1Str = time.get_attribute('datetime')[0:10]\n",
    "            date1 = datetime.strptime(date1Str, '%Y-%m-%d').date()\n",
    "        except:\n",
    "            break\n",
    "        try:\n",
    "            nxtBtn=wait.until(EC.presence_of_element_located((By.XPATH,\"//a[contains(@class,'coreSpriteRightPaginationArrow')]\")))\n",
    "            nxtBtn.click()\n",
    "        except:\n",
    "            break\n",
    "    return count"
   ]
  },
  {
   "cell_type": "code",
   "execution_count": 18,
   "metadata": {},
   "outputs": [],
   "source": [
    "count=0\n",
    "post={}\n",
    "for i in followersCount.keys():\n",
    "    post[i]=getCountOfPost(i,3)\n",
    "    count+=1\n",
    "    if(count==5):\n",
    "        break\n"
   ]
  },
  {
   "cell_type": "code",
   "execution_count": 19,
   "metadata": {},
   "outputs": [
    {
     "name": "stdout",
     "output_type": "stream",
     "text": [
      "foodnetwork :  26\n",
      "buzzfeedfood :  0\n",
      "cooking.room :  10\n",
      "foodnetworkkitchen :  13\n",
      "foodytops :  10\n"
     ]
    }
   ],
   "source": [
    "count=0\n",
    "for i in post.keys():\n",
    "    print(i+\" : \",post[i])\n",
    "    count+=1\n",
    "    if(count==5):\n",
    "        break"
   ]
  },
  {
   "cell_type": "code",
   "execution_count": 20,
   "metadata": {},
   "outputs": [
    {
     "data": {
      "image/png": "[encoded data removed]",
      "text/plain": [
       "<Figure size 432x288 with 1 Axes>"
      ]
     },
     "metadata": {},
     "output_type": "display_data"
    }
   ],
   "source": [
    "import matplotlib.pyplot as plt \n",
    " \n",
    "label = []\n",
    "slices = [] \n",
    "count=0\n",
    "for i in post.keys():\n",
    "    label.append((i+\" FOLLOWERS: \"+str(followersCount[i])))\n",
    "    slices.append(post[i])\n",
    "    count+=1\n",
    "    if(count==5):\n",
    "        break\n",
    "  \n",
    "\n",
    "  \n",
    "# color for each label \n",
    "colors = ['r', 'g', 'b', 'y' ,'m'] \n",
    "  \n",
    "# plotting the pie chart \n",
    "plt.pie(slices, labels = label, colors=colors,  \n",
    "        startangle=90, shadow = True, explode = (0.1, 0.2, 0.3, 0.4,0.5), \n",
    "        radius = 2, autopct = '%1.1f%%') \n",
    "  \n",
    "# plotting legend \n",
    "plt.legend() \n",
    "  \n",
    "# showing the plot \n",
    "plt.show() "
   ]
  },
  {
   "cell_type": "code",
   "execution_count": 21,
   "metadata": {},
   "outputs": [],
   "source": [
    "########################################################################################\n",
    "############# TASK 2\n",
    "########################################################################################\n",
    "# Your friend also needs a list of hashtags that he should use in his posts.\n",
    "# Open the 5 handles you obtained in the last question, and scrape the content of the first 10 posts of each handle.\n",
    "# Prepare a list of all words used in all the scraped posts and calculate the frequency of each word.\n",
    "# Create a csv file with two columns : the word and its frequency\n",
    "# Now, find the hashtags that were most popular among these bloggers\n",
    "# Plot a Pie Chart of the top 5 hashtags obtained and the number of times they were used by these bloggers in the scraped posts."
   ]
  },
  {
   "cell_type": "code",
   "execution_count": 22,
   "metadata": {},
   "outputs": [],
   "source": [
    "def findContentOfPosts(handle,num):\n",
    "    openAhandle(handle)\n",
    "    driver.maximize_window()\n",
    "    post1=driver.find_element_by_class_name(\"_9AhH0\")\n",
    "    post1.click()\n",
    "    count=0\n",
    "    sentences=\"\"\n",
    "    while(count<num):\n",
    "        count+=1\n",
    "        try:\n",
    "            wait=WebDriverWait(driver,2)\n",
    "            handleName=wait.until(EC.presence_of_element_located((By.XPATH,\"//h2[contains(@class,'_6lAjh')]/div/a\"))).text\n",
    "            if(handleName==handle):\n",
    "                text=(driver.find_element_by_xpath('//div[contains(@class,\"C4VMK\")]/span').text)\n",
    "                sentences=sentences+\" \"+(text)\n",
    "        except:\n",
    "            count-=1\n",
    "        try:\n",
    "            nxtBtn=wait.until(EC.presence_of_element_located((By.XPATH,\"//a[contains(@class,'coreSpriteRightPaginationArrow')]\")))\n",
    "            nxtBtn.click()\n",
    "        except:\n",
    "            break\n",
    "    return sentences"
   ]
  },
  {
   "cell_type": "code",
   "execution_count": 23,
   "metadata": {},
   "outputs": [],
   "source": [
    "data=[]\n",
    "count=0\n",
    "for i in post.keys():\n",
    "    data.append(findContentOfPosts(i,10))\n",
    "    count+=1\n",
    "    if(count==5):\n",
    "        break"
   ]
  },
  {
   "cell_type": "code",
   "execution_count": 24,
   "metadata": {},
   "outputs": [
    {
     "name": "stdout",
     "output_type": "stream",
     "text": [
      "  Crispy Tortilla Pizza (with @jeffmauro) 🍕\n",
      "\n",
      "Tortilla pizza is the perfect family-friendly dinner that won't break the bank! #WeCook\n",
      "\n",
      "Get @jeffmauro's recipe on the @foodnetworkkitchen app.\n",
      "\n",
      "#TheKitchen > Saturdays at 11a|10c. @Guarnaschelli's Favorite Spare Ribs 😋\n",
      "\n",
      "It takes only five minutes to prep Alex's Dad's Spare Ribs!\n",
      "\n",
      "Watch a new #SupermarketStakeout tonight at 10|9c.\n",
      "Save the recipe on your @FoodNetworkKitchen app. This works in a pinch, and makes about ¼ cup baking powder — enough for several recipes! (If you don't have cornstarch, omit it. It acts as an anti-caking agent to prevent clumping during storage.) Did you know @amazonfiretv and Fire Tablet customers get a 1-year complimentary subscription to @FoodNetworkKitchen Premium? Find out how to redeem by going to foodtv.com/amazon. Dad's Burger (with @guyfieri)\n",
      "\n",
      "There's bacon AND blue cheese literally seared DIRECTLY into this burger 😲 Find it at @dadslandpark 🍔\n",
      "#DDD with @GuyFieri > Fridays at 9|8c @carlaphall's Biscuit Hack\n",
      "\n",
      "Happy birthday, @carlaphall! We hope you're celebrating with a ton of these super flaky biscuits! 🎉\n",
      "\n",
      "Watch Carla's class on the @foodnetworkkitchen app. ‼️ Happening THIS Friday: NACHO AVERAGE SHOWDOWN with @GuyFieri + Bill Murray! 👊👊 Here’s the deal. For the first time EVER, Guy and his son, @hunterfieri, will face off against Bill and his son, Homer, in the ultimate nacho-building competition… LIVE on our Facebook page! 🔥 Look out for special guests like @carlaphall, @TerryCrews and @Shaq as they all raise money to support @nraefoundation. Head to Facebook.com/FoodNetwork on Friday @ 5pm EST to watch! Recipe of the Day: Porcupine Meatballs 🦔 Save the recipe on your @foodnetworkkitchen app today! #Chopped: Beat the Judge (with @ManeetChauhan)\n",
      "\n",
      "🔪TONIGHT 🔪#Chopped champions return to the kitchen for a chance to compete against judge Maneet Chauhan in the final round of the Beat the Judge competition!\n",
      "The battle begins tonight at 9|8c. Extra Sweet: Layer Cakes (with @MarthaStewart48)\n",
      "\n",
      "Martha Stewart shares her ultimate tips and tricks for making flawless and delicious layer cakes!\n",
      "Don't miss an all-new episode of #BakeawayCamp > Monday at 9|8c @maneetchauhan Reviews #ChoppedChallenge Dishes\n",
      "\n",
      "You never know who's scrolling through the photos of final #ChoppedChallenge dishes! This time, it's #Chopped judge @chefmaneetchauhan 🎉\n",
      "\n",
      "Catch Maneet on #Chopped Beat the Judge tonight at 9|8c!\n",
      "\n",
      "Great work to @cuisinesbychefb, @shef_ammo, @chefmeikajohnson, @marsha_woldow, @chazrockwell, @chelsandfrankinthekitchen and @bigbadbaba 👏  This place in Seattle serves tide-to-table shellfish! 😱Follow 👉@bringme for more foodie spots around the world! Are you ready to get bougie on a budget? You can get a Michelin star meal in Paris! 🇫🇷Follow 👉@bringme for more foodie adventures! Why aren't you following @bringme yet?! 🍜Follow @bringme for more foodie adventures! 🌍✈️ Brazil makes the cheesiest chili cheeseburgers! 😋🍔Follow @bringme for more! Move over Italy, Vancouver might have the world's best gelato! 🍨What's your favorite gelato flavor? Follow 👉@bringme for more mouthwatering adventures around the globe! 🌎 These are cheesecake tea cups and I'll take one of EVERYTHING. 😍🍰Follow @bringme for more foodie adventures! ✈️ This place serves pickle and beer flights with a southern twist! 🍻Follow @bringme for more foodie adventures all around the globe! ✈️ Cozy up at this hot chocolate café! They have over 50 different kinds! ☕️🍫Follow @bringme for more foodie adventures around the world! ✈️ Thanks for this dairy-free blueberry lime “cheesecake” recipe @goodful 😍🤤 🚨 MERCH ALERT 🚨 Eating Your Feed has new merch & it’s all 30% off with the code NEWSTUFF30 at checkout! Get yours now at @shopbuzzfeed !!  SWIPE 👉👉👉\n",
      "Credits: @lamannabakery\n",
      "DOWNLOAD GAME👇\n",
      "LINK IN BIO: @cooking.room\n",
      "LINK IN BIO: @cooking.room\n",
      "LINK IN BIO: @cooking.room —————————————————\n",
      ".\n",
      ".\n",
      ".\n",
      ".\n",
      ".\n",
      "#pizzalover #donuts #feelingcrafty #boomboom #breakfastlovers #instadiy #diyideas #diycraft #lifehacks #lifehack #icecreamsundae #hacks #lifetips #oreos #helpfultips #lifehacking #lifehacker #diyfood #useful #diys #easydiy #diyfun #diyvideos #diyproject #doityourself #diytutorial #diyfuture #diyvideo #tiramisulover #boredpanda SWIPE 👉👉👉\n",
      "Credits: @tastemade\n",
      "DOWNLOAD GAME👇\n",
      "LINK IN BIO: @cooking.room\n",
      "LINK IN BIO: @cooking.room\n",
      "LINK IN BIO: @cooking.room —————————————————\n",
      ".\n",
      ".\n",
      ".\n",
      ".\n",
      ".\n",
      "#cakelover #donuts #feelingcrafty #boomboom #breakfastlovers #instadiy #diyideas #diycraft #lifehacks #lifehack #icecreamsundae #hacks #lifetips #oreos #helpfultips #lifehacking #lifehacker #diyfood #useful #diys #easydiy #diyfun #diyvideos #diyproject #doityourself #diytutorial #diyfuture #diyvideo #tiramisulover #boredpanda What If Every Breakfast Became A New Adventure? Seven-hole Breakfast Frying Pan, Multi-functional Flat-bottomed Porous Medical stone Non-stick Egg Dumpling Pot\n",
      "Say goodbye to picky eaters, A good helper of improving your children's appetite <3 <3\n",
      "LINK IN STORY: @cooking.room SWIPE 👉👉👉\n",
      "Credits: @buzzfeedtasty\n",
      "DOWNLOAD GAME👇\n",
      "LINK IN BIO: @cooking.room\n",
      "LINK IN BIO: @cooking.room\n",
      "LINK IN BIO: @cooking.room —————————————————\n",
      ".\n",
      ".\n",
      ".\n",
      ".\n",
      ".\n",
      "#cupcakes #donuts #feelingcrafty #boomboom #breakfastlovers #instadiy #diyideas #diycraft #lifehacks #lifehack #icecreamsundae #hacks #lifetips #oreos #helpfultips #lifehacking #lifehacker #diyfood #useful #diys #easydiy #diyfun #diyvideos #diyproject #doityourself #diytutorial #diyfuture #diyvideo #tiramisulover #boredpanda SWIPE 👉👉👉\n",
      "Credits: @proper_tasty\n",
      "DOWNLOAD GAME👇\n",
      "LINK IN BIO: @cooking.room\n",
      "LINK IN BIO: @cooking.room\n",
      "LINK IN BIO: @cooking.room —————————————————\n",
      ".\n",
      ".\n",
      ".\n",
      ".\n",
      ".\n",
      "#cakeboss #donuts #feelingcrafty #boomboom #breakfastlovers #instadiy #diyideas #diycraft #lifehacks #lifehack #icecreamsundae #hacks #lifetips #oreos #helpfultips #lifehacking #lifehacker #diyfood #useful #diys #easydiy #diyfun #diyvideos #diyproject #doityourself #diytutorial #diyfuture #diyvideo #tiramisulover #boredpanda SWIPE 👉👉👉\n",
      "Credits: @napolifoodporn\n",
      "DOWNLOAD GAME👇\n",
      "LINK IN BIO: @cooking.room\n",
      "LINK IN BIO: @cooking.room\n",
      "LINK IN BIO: @cooking.room —————————————————\n",
      ".\n",
      ".\n",
      ".\n",
      ".\n",
      ".\n",
      "#nutella #donuts #feelingcrafty #boomboom #breakfastlovers #instadiy #diyideas #diycraft #lifehacks #lifehack #icecreamsundae #hacks #lifetips #oreos #helpfultips #lifehacking #lifehacker #diyfood #useful #diys #easydiy #diyfun #diyvideos #diyproject #doityourself #diytutorial #diyfuture #diyvideo #tiramisulover #boredpanda SWIPE 👉👉👉\n",
      "Credits: @mycookiedough ❤️\n",
      "Song - Weird Times by @oscarwelsh_\n",
      "Credits @fitwaffle\n",
      "DOWNLOAD GAME👇\n",
      "LINK IN BIO: @cooking.room\n",
      "LINK IN BIO: @cooking.room\n",
      "LINK IN BIO: @cooking.room —————————————————\n",
      ".\n",
      ".\n",
      ".\n",
      ".\n",
      ".\n",
      "#chocolatecake #donuts #feelingcrafty #boomboom #breakfastlovers #instadiy #diyideas #diycraft #lifehacks #lifehack #icecreamsundae #hacks #lifetips #oreos #helpfultips #lifehacking #lifehacker #diyfood #useful #diys #easydiy #diyfun #diyvideos #diyproject #doityourself #diytutorial #diyfuture #diyvideo #tiramisulover #boredpanda SWIPE 👉👉👉\n",
      "Credits: @fitwaffle\n",
      "DOWNLOAD GAME👇\n",
      "LINK IN BIO: @cooking.room\n",
      "LINK IN BIO: @cooking.room\n",
      "LINK IN BIO: @cooking.room —————————————————\n",
      ".\n",
      ".\n",
      ".\n",
      ".\n",
      ".\n",
      "#chocolatelab #donuts #feelingcrafty #boomboom #breakfastlovers #instadiy #diyideas #diycraft #lifehacks #lifehack #icecreamsundae #hacks #lifetips #oreos #helpfultips #lifehacking #lifehacker #diyfood #useful #diys #easydiy #diyfun #diyvideos #diyproject #doityourself #diytutorial #diyfuture #diyvideo #tiramisulover #boredpanda SWIPE 👉👉👉\n",
      "Credits: @sweetportfolio\n",
      "DOWNLOAD GAME👇\n",
      "LINK IN BIO: @cooking.room\n",
      "LINK IN BIO: @cooking.room\n",
      "LINK IN BIO: @cooking.room —————————————————\n",
      ".\n",
      ".\n",
      ".\n",
      ".\n",
      ".\n",
      "#chocolatecake #donuts #feelingcrafty #boomboom #breakfastlovers #instadiy #diyideas #diycraft #lifehacks #lifehack #icecreamsundae #hacks #lifetips #oreos #helpfultips #lifehacking #lifehacker #diyfood #useful #diys #easydiy #diyfun #diyvideos #diyproject #doityourself #diytutorial #diyfuture #diyvideo #tiramisulover #boredpanda SWIPE 👉👉👉\n",
      "Credits: @delish\n",
      "DOWNLOAD GAME👇\n",
      "LINK IN BIO: @cooking.room\n",
      "LINK IN BIO: @cooking.room\n",
      "LINK IN BIO: @cooking.room —————————————————\n",
      ".\n",
      ".\n",
      ".\n",
      ".\n",
      ".\n",
      "#cupcakes #donuts #feelingcrafty #boomboom #breakfastlovers #instadiy #diyideas #diycraft #lifehacks #lifehack #icecreamsundae #hacks #lifetips #oreos #helpfultips #lifehacking #lifehacker #diyfood #useful #diys #easydiy #diyfun #diyvideos #diyproject #doityourself #diytutorial #diyfuture #diyvideo #tiramisulover #boredpanda  This eggplant is SO good, it's Carol's family's #1 recipe. They beg for it on REPEAT 😋\n",
      "\n",
      "You can binge the entire season of #BetterWithAge starring @courtrada RIGHT NOW on the #FoodNetworkKitchen app! Download the app with the link in our bio to watch and start your 60-day free trial. @carlaphall's Biscuit Hack\n",
      "\n",
      "Happy birthday, @carlaphall! We hope you're celebrating with a ton of these super flaky biscuits! 🎉\n",
      "\n",
      "Watch Carla's class on the #FoodNetworkKitchen app. This works in a pinch, and makes about ¼ cup baking powder — enough for several recipes! (If you don't have cornstarch, omit it. It acts as an anti-caking agent to prevent clumping during storage.) Did you know @amazonfiretv and Fire Tablet customers get a 1-year complimentary subscription to #FoodNetworkKitchen Premium? Find out how to redeem by going to foodtv.com/amazon. Class of the Day: White Beans with Cabbage, Pasta, and Prosciutto 🍲 Food author @markbittman's pasta recipe is a fast and easy one you need to add to your arsenal! His class on the #FoodNetworkKitchen app shows you how it all comes together in just 30 minutes ⏲️ Buttery, garlicky shrimp served up with pasta and toasted breadcrumbs... what's not to love? You can take @elenabesser's Next-Level Shrimp Scampi class on the #FoodNetworkKitchen app today and make it at home for yourself! @chefamandaf's Tip for Segmenting Oranges\n",
      "\n",
      "Segmenting your oranges will take your dish up a notch! ✨@chefamandaf will show you how to do this fancy (yet easy!) technique.\n",
      "Take her full Dutch Baby with Cranberry Orange Compote class on the #FoodNetworkKitchen app. Have you entered the #WeCookTogether #Sweepstakes?? Post a photo of a recipe you've made from the Food Network Kitchen app and use the hashtags #WeCookTogether #Sweepstakes for a chance to win an @amazonfiretv Stick! We'll be picking a winner EVERY DAY through the month of May!\n",
      ". . .\n",
      "Full rules here: foodtv.com/FNKGiveaway Class of the Day: Italian PLT 🥪 Amp up your sandwiches with slow-roasted tomatoes and garlic, then never look back 😜 @sparklessz shows you how to build the perfect sandwich, plus shares her recipes for Roasted Garlic Aioli and Pickled Red Onions. Learn it all in her class on the #FoodNetworkKitchen app! We've got a big week of LIVE classes coming up on the #FoodNetworkKitchen app! 👏 Swipe to see the full lineup and don't forget to set your reminders now! @jettila's Tip for Coating Noodles\n",
      "\n",
      "The secret to not adding too much oil to Pad See You or fried rice? @jettila says to coat the noodles or rice in THIS instead so they don't stick to the pan! 🤯Watch Jet's full class on the #FoodNetworkKitchen app for more tips.  SWIPE 👉👉👉\n",
      "Credit: @sweetportfolio\n",
      "INSTALL THE GAME👇👇👇\n",
      "——————————————\n",
      "LINK IN BIO : @foodytops 👈\n",
      "LINK IN BIO : @foodytops 👈\n",
      "LINK IN BIO : @foodytops 👈\n",
      "——————————————\n",
      "Tag your friends\n",
      "👇👇👇 SWIPE 👉👉👉\n",
      "Credit: @zeynebin_mutfagiii\n",
      "INSTALL THE GAME👇👇👇\n",
      "——————————————\n",
      "LINK IN BIO : @foodytops 👈\n",
      "LINK IN BIO : @foodytops 👈\n",
      "LINK IN BIO : @foodytops 👈\n",
      "——————————————\n",
      "Tag your friends\n",
      "👇👇👇 SWIPE 👉👉👉\n",
      "Credit: @sweetportfolio\n",
      "INSTALL THE GAME👇👇👇\n",
      "——————————————\n",
      "LINK IN BIO : @foodytops 👈\n",
      "LINK IN BIO : @foodytops 👈\n",
      "LINK IN BIO : @foodytops 👈\n",
      "——————————————\n",
      "Tag your friends\n",
      "👇👇👇 SWIPE 👉👉👉\n",
      "Credit: @thedoubleeaterz\n",
      "INSTALL THE GAME👇👇👇\n",
      "——————————————\n",
      "LINK IN BIO : @foodytops 👈\n",
      "LINK IN BIO : @foodytops 👈\n",
      "LINK IN BIO : @foodytops 👈\n",
      "——————————————\n",
      "Tag your friends\n",
      "👇👇👇 SWIPE 👉👉👉\n",
      "Credit: @thenaughtyfork\n",
      "INSTALL THE GAME👇👇👇\n",
      "——————————————\n",
      "LINK IN BIO : @foodytops 👈\n",
      "LINK IN BIO : @foodytops 👈\n",
      "LINK IN BIO : @foodytops 👈\n",
      "——————————————\n",
      "Tag your friends\n",
      "👇👇👇 SWIPE 👉👉👉\n",
      "Credit: @pacikanin_mutfagi\n",
      "INSTALL THE GAME👇👇👇\n",
      "——————————————\n",
      "LINK IN BIO : @foodytops 👈\n",
      "LINK IN BIO : @foodytops 👈\n",
      "LINK IN BIO : @foodytops 👈\n",
      "——————————————\n",
      "Tag your friends\n",
      "👇👇👇 SWIPE 👉👉👉\n",
      "Credit: @bogazisi\n",
      "INSTALL THE GAME👇👇👇\n",
      "——————————————\n",
      "LINK IN BIO : @foodytops 👈\n",
      "LINK IN BIO : @foodytops 👈\n",
      "LINK IN BIO : @foodytops 👈\n",
      "——————————————\n",
      "Tag your friends\n",
      "👇👇👇 SWIPE 👉👉👉\n",
      "Credit: @vladislav_pancha\n",
      "INSTALL THE GAME👇👇👇\n",
      "——————————————\n",
      "LINK IN BIO : @foodytops 👈\n",
      "LINK IN BIO : @foodytops 👈\n",
      "LINK IN BIO : @foodytops 👈\n",
      "——————————————\n",
      "Tag your friends\n",
      "👇👇👇 SWIPE 👉👉👉\n",
      "Credit: @igorochaoficial\n",
      "INSTALL THE GAME👇👇👇\n",
      "——————————————\n",
      "LINK IN BIO : @foodytops 👈\n",
      "LINK IN BIO : @foodytops 👈\n",
      "LINK IN BIO : @foodytops 👈\n",
      "——————————————\n",
      "Tag your friends\n",
      "👇👇👇 SWIPE 👉👉👉\n",
      "Credit: @chelsweets\n",
      "INSTALL THE GAME👇👇👇\n",
      "——————————————\n",
      "LINK IN BIO : @foodytops 👈\n",
      "LINK IN BIO : @foodytops 👈\n",
      "LINK IN BIO : @foodytops 👈\n",
      "——————————————\n",
      "Tag your friends\n",
      "👇👇👇\n"
     ]
    }
   ],
   "source": [
    "text=\"\"\n",
    "for i in data:\n",
    "    text=text+\" \"+(i)\n",
    "print(text)"
   ]
  },
  {
   "cell_type": "code",
   "execution_count": 25,
   "metadata": {},
   "outputs": [],
   "source": [
    "# #####USING NLP For Processing Data\n",
    "words=regexp_tokenize(text, pattern=r\"\\s|[\\.,;']\", gaps=True)\n"
   ]
  },
  {
   "cell_type": "code",
   "execution_count": 26,
   "metadata": {},
   "outputs": [
    {
     "name": "stdout",
     "output_type": "stream",
     "text": [
      "['Crispy', 'Tortilla', 'Pizza', '(with', '@jeffmauro)', '🍕', 'Tortilla', 'pizza', 'is', 'the', 'perfect', 'family-friendly', 'dinner', 'that', 'won', 't', 'break', 'the', 'bank!', '#WeCook', 'Get', '@jeffmauro', 's', 'recipe', 'on', 'the', '@foodnetworkkitchen', 'app', '#TheKitchen', '>', 'Saturdays', 'at', '11a|10c', '@Guarnaschelli', 's', 'Favorite', 'Spare', 'Ribs', '😋', 'It', 'takes', 'only', 'five', 'minutes', 'to', 'prep', 'Alex', 's', 'Dad', 's', 'Spare', 'Ribs!', 'Watch', 'a', 'new', '#SupermarketStakeout', 'tonight', 'at', '10|9c', 'Save', 'the', 'recipe', 'on', 'your', '@FoodNetworkKitchen', 'app', 'This', 'works', 'in', 'a', 'pinch', 'and', 'makes', 'about', '¼', 'cup', 'baking', 'powder', '—', 'enough', 'for', 'several', 'recipes!', '(If', 'you', 'don', 't', 'have', 'cornstarch', 'omit', 'it', 'It', 'acts', 'as', 'an', 'anti-caking', 'agent', 'to', 'prevent', 'clumping', 'during', 'storage', ')', 'Did', 'you', 'know', '@amazonfiretv', 'and', 'Fire', 'Tablet', 'customers', 'get', 'a', '1-year', 'complimentary', 'subscription', 'to', '@FoodNetworkKitchen', 'Premium?', 'Find', 'out', 'how', 'to', 'redeem', 'by', 'going', 'to', 'foodtv', 'com/amazon', 'Dad', 's', 'Burger', '(with', '@guyfieri)', 'There', 's', 'bacon', 'AND', 'blue', 'cheese', 'literally', 'seared', 'DIRECTLY', 'into', 'this', 'burger', '😲', 'Find', 'it', 'at', '@dadslandpark', '🍔', '#DDD', 'with', '@GuyFieri', '>', 'Fridays', 'at', '9|8c', '@carlaphall', 's', 'Biscuit', 'Hack', 'Happy', 'birthday', '@carlaphall!', 'We', 'hope', 'you', 're', 'celebrating', 'with', 'a', 'ton', 'of', 'these', 'super', 'flaky', 'biscuits!', '🎉', 'Watch', 'Carla', 's', 'class', 'on', 'the', '@foodnetworkkitchen', 'app', '‼️', 'Happening', 'THIS', 'Friday:', 'NACHO', 'AVERAGE', 'SHOWDOWN', 'with', '@GuyFieri', '+', 'Bill', 'Murray!', '👊👊', 'Here’s', 'the', 'deal', 'For', 'the', 'first', 'time', 'EVER', 'Guy', 'and', 'his', 'son', '@hunterfieri', 'will', 'face', 'off', 'against', 'Bill', 'and', 'his', 'son', 'Homer', 'in', 'the', 'ultimate', 'nacho-building', 'competition…', 'LIVE', 'on', 'our', 'Facebook', 'page!', '🔥', 'Look', 'out', 'for', 'special', 'guests', 'like', '@carlaphall', '@TerryCrews', 'and', '@Shaq', 'as', 'they', 'all', 'raise', 'money', 'to', 'support', '@nraefoundation', 'Head', 'to', 'Facebook', 'com/FoodNetwork', 'on', 'Friday', '@', '5pm', 'EST', 'to', 'watch!', 'Recipe', 'of', 'the', 'Day:', 'Porcupine', 'Meatballs', '🦔', 'Save', 'the', 'recipe', 'on', 'your', '@foodnetworkkitchen', 'app', 'today!', '#Chopped:', 'Beat', 'the', 'Judge', '(with', '@ManeetChauhan)', '🔪TONIGHT', '🔪#Chopped', 'champions', 'return', 'to', 'the', 'kitchen', 'for', 'a', 'chance', 'to', 'compete', 'against', 'judge', 'Maneet', 'Chauhan', 'in', 'the', 'final', 'round', 'of', 'the', 'Beat', 'the', 'Judge', 'competition!', 'The', 'battle', 'begins', 'tonight', 'at', '9|8c', 'Extra', 'Sweet:', 'Layer', 'Cakes', '(with', '@MarthaStewart48)', 'Martha', 'Stewart', 'shares', 'her', 'ultimate', 'tips', 'and', 'tricks', 'for', 'making', 'flawless', 'and', 'delicious', 'layer', 'cakes!', 'Don', 't', 'miss', 'an', 'all-new', 'episode', 'of', '#BakeawayCamp', '>', 'Monday', 'at', '9|8c', '@maneetchauhan', 'Reviews', '#ChoppedChallenge', 'Dishes', 'You', 'never', 'know', 'who', 's', 'scrolling', 'through', 'the', 'photos', 'of', 'final', '#ChoppedChallenge', 'dishes!', 'This', 'time', 'it', 's', '#Chopped', 'judge', '@chefmaneetchauhan', '🎉', 'Catch', 'Maneet', 'on', '#Chopped', 'Beat', 'the', 'Judge', 'tonight', 'at', '9|8c!', 'Great', 'work', 'to', '@cuisinesbychefb', '@shef_ammo', '@chefmeikajohnson', '@marsha_woldow', '@chazrockwell', '@chelsandfrankinthekitchen', 'and', '@bigbadbaba', '👏', 'This', 'place', 'in', 'Seattle', 'serves', 'tide-to-table', 'shellfish!', '😱Follow', '👉@bringme', 'for', 'more', 'foodie', 'spots', 'around', 'the', 'world!', 'Are', 'you', 'ready', 'to', 'get', 'bougie', 'on', 'a', 'budget?', 'You', 'can', 'get', 'a', 'Michelin', 'star', 'meal', 'in', 'Paris!', '🇫🇷Follow', '👉@bringme', 'for', 'more', 'foodie', 'adventures!', 'Why', 'aren', 't', 'you', 'following', '@bringme', 'yet?!', '🍜Follow', '@bringme', 'for', 'more', 'foodie', 'adventures!', '🌍✈️', 'Brazil', 'makes', 'the', 'cheesiest', 'chili', 'cheeseburgers!', '😋🍔Follow', '@bringme', 'for', 'more!', 'Move', 'over', 'Italy', 'Vancouver', 'might', 'have', 'the', 'world', 's', 'best', 'gelato!', '🍨What', 's', 'your', 'favorite', 'gelato', 'flavor?', 'Follow', '👉@bringme', 'for', 'more', 'mouthwatering', 'adventures', 'around', 'the', 'globe!', '🌎', 'These', 'are', 'cheesecake', 'tea', 'cups', 'and', 'I', 'll', 'take', 'one', 'of', 'EVERYTHING', '😍🍰Follow', '@bringme', 'for', 'more', 'foodie', 'adventures!', '✈️', 'This', 'place', 'serves', 'pickle', 'and', 'beer', 'flights', 'with', 'a', 'southern', 'twist!', '🍻Follow', '@bringme', 'for', 'more', 'foodie', 'adventures', 'all', 'around', 'the', 'globe!', '✈️', 'Cozy', 'up', 'at', 'this', 'hot', 'chocolate', 'café!', 'They', 'have', 'over', '50', 'different', 'kinds!', '☕️🍫Follow', '@bringme', 'for', 'more', 'foodie', 'adventures', 'around', 'the', 'world!', '✈️', 'Thanks', 'for', 'this', 'dairy-free', 'blueberry', 'lime', '“cheesecake”', 'recipe', '@goodful', '😍🤤', '🚨', 'MERCH', 'ALERT', '🚨', 'Eating', 'Your', 'Feed', 'has', 'new', 'merch', '&', 'it’s', 'all', '30%', 'off', 'with', 'the', 'code', 'NEWSTUFF30', 'at', 'checkout!', 'Get', 'yours', 'now', 'at', '@shopbuzzfeed', '!!', 'SWIPE', '👉👉👉', 'Credits:', '@lamannabakery', 'DOWNLOAD', 'GAME👇', 'LINK', 'IN', 'BIO:', '@cooking', 'room', 'LINK', 'IN', 'BIO:', '@cooking', 'room', 'LINK', 'IN', 'BIO:', '@cooking', 'room', '—————————————————', '#pizzalover', '#donuts', '#feelingcrafty', '#boomboom', '#breakfastlovers', '#instadiy', '#diyideas', '#diycraft', '#lifehacks', '#lifehack', '#icecreamsundae', '#hacks', '#lifetips', '#oreos', '#helpfultips', '#lifehacking', '#lifehacker', '#diyfood', '#useful', '#diys', '#easydiy', '#diyfun', '#diyvideos', '#diyproject', '#doityourself', '#diytutorial', '#diyfuture', '#diyvideo', '#tiramisulover', '#boredpanda', 'SWIPE', '👉👉👉', 'Credits:', '@tastemade', 'DOWNLOAD', 'GAME👇', 'LINK', 'IN', 'BIO:', '@cooking', 'room', 'LINK', 'IN', 'BIO:', '@cooking', 'room', 'LINK', 'IN', 'BIO:', '@cooking', 'room', '—————————————————', '#cakelover', '#donuts', '#feelingcrafty', '#boomboom', '#breakfastlovers', '#instadiy', '#diyideas', '#diycraft', '#lifehacks', '#lifehack', '#icecreamsundae', '#hacks', '#lifetips', '#oreos', '#helpfultips', '#lifehacking', '#lifehacker', '#diyfood', '#useful', '#diys', '#easydiy', '#diyfun', '#diyvideos', '#diyproject', '#doityourself', '#diytutorial', '#diyfuture', '#diyvideo', '#tiramisulover', '#boredpanda', 'What', 'If', 'Every', 'Breakfast', 'Became', 'A', 'New', 'Adventure?', 'Seven-hole', 'Breakfast', 'Frying', 'Pan', 'Multi-functional', 'Flat-bottomed', 'Porous', 'Medical', 'stone', 'Non-stick', 'Egg', 'Dumpling', 'Pot', 'Say', 'goodbye', 'to', 'picky', 'eaters', 'A', 'good', 'helper', 'of', 'improving', 'your', 'children', 's', 'appetite', '<3', '<3', 'LINK', 'IN', 'STORY:', '@cooking', 'room', 'SWIPE', '👉👉👉', 'Credits:', '@buzzfeedtasty', 'DOWNLOAD', 'GAME👇', 'LINK', 'IN', 'BIO:', '@cooking', 'room', 'LINK', 'IN', 'BIO:', '@cooking', 'room', 'LINK', 'IN', 'BIO:', '@cooking', 'room', '—————————————————', '#cupcakes', '#donuts', '#feelingcrafty', '#boomboom', '#breakfastlovers', '#instadiy', '#diyideas', '#diycraft', '#lifehacks', '#lifehack', '#icecreamsundae', '#hacks', '#lifetips', '#oreos', '#helpfultips', '#lifehacking', '#lifehacker', '#diyfood', '#useful', '#diys', '#easydiy', '#diyfun', '#diyvideos', '#diyproject', '#doityourself', '#diytutorial', '#diyfuture', '#diyvideo', '#tiramisulover', '#boredpanda', 'SWIPE', '👉👉👉', 'Credits:', '@proper_tasty', 'DOWNLOAD', 'GAME👇', 'LINK', 'IN', 'BIO:', '@cooking', 'room', 'LINK', 'IN', 'BIO:', '@cooking', 'room', 'LINK', 'IN', 'BIO:', '@cooking', 'room', '—————————————————', '#cakeboss', '#donuts', '#feelingcrafty', '#boomboom', '#breakfastlovers', '#instadiy', '#diyideas', '#diycraft', '#lifehacks', '#lifehack', '#icecreamsundae', '#hacks', '#lifetips', '#oreos', '#helpfultips', '#lifehacking', '#lifehacker', '#diyfood', '#useful', '#diys', '#easydiy', '#diyfun', '#diyvideos', '#diyproject', '#doityourself', '#diytutorial', '#diyfuture', '#diyvideo', '#tiramisulover', '#boredpanda', 'SWIPE', '👉👉👉', 'Credits:', '@napolifoodporn', 'DOWNLOAD', 'GAME👇', 'LINK', 'IN', 'BIO:', '@cooking', 'room', 'LINK', 'IN', 'BIO:', '@cooking', 'room', 'LINK', 'IN', 'BIO:', '@cooking', 'room', '—————————————————', '#nutella', '#donuts', '#feelingcrafty', '#boomboom', '#breakfastlovers', '#instadiy', '#diyideas', '#diycraft', '#lifehacks', '#lifehack', '#icecreamsundae', '#hacks', '#lifetips', '#oreos', '#helpfultips', '#lifehacking', '#lifehacker', '#diyfood', '#useful', '#diys', '#easydiy', '#diyfun', '#diyvideos', '#diyproject', '#doityourself', '#diytutorial', '#diyfuture', '#diyvideo', '#tiramisulover', '#boredpanda', 'SWIPE', '👉👉👉', 'Credits:', '@mycookiedough', '❤️', 'Song', '-', 'Weird', 'Times', 'by', '@oscarwelsh_', 'Credits', '@fitwaffle', 'DOWNLOAD', 'GAME👇', 'LINK', 'IN', 'BIO:', '@cooking', 'room', 'LINK', 'IN', 'BIO:', '@cooking', 'room', 'LINK', 'IN', 'BIO:', '@cooking', 'room', '—————————————————', '#chocolatecake', '#donuts', '#feelingcrafty', '#boomboom', '#breakfastlovers', '#instadiy', '#diyideas', '#diycraft', '#lifehacks', '#lifehack', '#icecreamsundae', '#hacks', '#lifetips', '#oreos', '#helpfultips', '#lifehacking', '#lifehacker', '#diyfood', '#useful', '#diys', '#easydiy', '#diyfun', '#diyvideos', '#diyproject', '#doityourself', '#diytutorial', '#diyfuture', '#diyvideo', '#tiramisulover', '#boredpanda', 'SWIPE', '👉👉👉', 'Credits:', '@fitwaffle', 'DOWNLOAD', 'GAME👇', 'LINK', 'IN', 'BIO:', '@cooking', 'room', 'LINK', 'IN', 'BIO:', '@cooking', 'room', 'LINK', 'IN', 'BIO:', '@cooking', 'room', '—————————————————', '#chocolatelab', '#donuts', '#feelingcrafty', '#boomboom', '#breakfastlovers', '#instadiy', '#diyideas', '#diycraft', '#lifehacks', '#lifehack', '#icecreamsundae', '#hacks', '#lifetips', '#oreos', '#helpfultips', '#lifehacking', '#lifehacker', '#diyfood', '#useful', '#diys', '#easydiy', '#diyfun', '#diyvideos', '#diyproject', '#doityourself', '#diytutorial', '#diyfuture', '#diyvideo', '#tiramisulover', '#boredpanda', 'SWIPE', '👉👉👉', 'Credits:', '@sweetportfolio', 'DOWNLOAD', 'GAME👇', 'LINK', 'IN', 'BIO:', '@cooking', 'room', 'LINK', 'IN', 'BIO:', '@cooking', 'room', 'LINK', 'IN', 'BIO:', '@cooking', 'room', '—————————————————', '#chocolatecake', '#donuts', '#feelingcrafty', '#boomboom', '#breakfastlovers', '#instadiy', '#diyideas', '#diycraft', '#lifehacks', '#lifehack', '#icecreamsundae', '#hacks', '#lifetips', '#oreos', '#helpfultips', '#lifehacking', '#lifehacker', '#diyfood', '#useful', '#diys', '#easydiy', '#diyfun', '#diyvideos', '#diyproject', '#doityourself', '#diytutorial', '#diyfuture', '#diyvideo', '#tiramisulover', '#boredpanda', 'SWIPE', '👉👉👉', 'Credits:', '@delish', 'DOWNLOAD', 'GAME👇', 'LINK', 'IN', 'BIO:', '@cooking', 'room', 'LINK', 'IN', 'BIO:', '@cooking', 'room', 'LINK', 'IN', 'BIO:', '@cooking', 'room', '—————————————————', '#cupcakes', '#donuts', '#feelingcrafty', '#boomboom', '#breakfastlovers', '#instadiy', '#diyideas', '#diycraft', '#lifehacks', '#lifehack', '#icecreamsundae', '#hacks', '#lifetips', '#oreos', '#helpfultips', '#lifehacking', '#lifehacker', '#diyfood', '#useful', '#diys', '#easydiy', '#diyfun', '#diyvideos', '#diyproject', '#doityourself', '#diytutorial', '#diyfuture', '#diyvideo', '#tiramisulover', '#boredpanda', 'This', 'eggplant', 'is', 'SO', 'good', 'it', 's', 'Carol', 's', 'family', 's', '#1', 'recipe', 'They', 'beg', 'for', 'it', 'on', 'REPEAT', '😋', 'You', 'can', 'binge', 'the', 'entire', 'season', 'of', '#BetterWithAge', 'starring', '@courtrada', 'RIGHT', 'NOW', 'on', 'the', '#FoodNetworkKitchen', 'app!', 'Download', 'the', 'app', 'with', 'the', 'link', 'in', 'our', 'bio', 'to', 'watch', 'and', 'start', 'your', '60-day', 'free', 'trial', '@carlaphall', 's', 'Biscuit', 'Hack', 'Happy', 'birthday', '@carlaphall!', 'We', 'hope', 'you', 're', 'celebrating', 'with', 'a', 'ton', 'of', 'these', 'super', 'flaky', 'biscuits!', '🎉', 'Watch', 'Carla', 's', 'class', 'on', 'the', '#FoodNetworkKitchen', 'app', 'This', 'works', 'in', 'a', 'pinch', 'and', 'makes', 'about', '¼', 'cup', 'baking', 'powder', '—', 'enough', 'for', 'several', 'recipes!', '(If', 'you', 'don', 't', 'have', 'cornstarch', 'omit', 'it', 'It', 'acts', 'as', 'an', 'anti-caking', 'agent', 'to', 'prevent', 'clumping', 'during', 'storage', ')', 'Did', 'you', 'know', '@amazonfiretv', 'and', 'Fire', 'Tablet', 'customers', 'get', 'a', '1-year', 'complimentary', 'subscription', 'to', '#FoodNetworkKitchen', 'Premium?', 'Find', 'out', 'how', 'to', 'redeem', 'by', 'going', 'to', 'foodtv', 'com/amazon', 'Class', 'of', 'the', 'Day:', 'White', 'Beans', 'with', 'Cabbage', 'Pasta', 'and', 'Prosciutto', '🍲', 'Food', 'author', '@markbittman', 's', 'pasta', 'recipe', 'is', 'a', 'fast', 'and', 'easy', 'one', 'you', 'need', 'to', 'add', 'to', 'your', 'arsenal!', 'His', 'class', 'on', 'the', '#FoodNetworkKitchen', 'app', 'shows', 'you', 'how', 'it', 'all', 'comes', 'together', 'in', 'just', '30', 'minutes', '⏲️', 'Buttery', 'garlicky', 'shrimp', 'served', 'up', 'with', 'pasta', 'and', 'toasted', 'breadcrumbs', 'what', 's', 'not', 'to', 'love?', 'You', 'can', 'take', '@elenabesser', 's', 'Next-Level', 'Shrimp', 'Scampi', 'class', 'on', 'the', '#FoodNetworkKitchen', 'app', 'today', 'and', 'make', 'it', 'at', 'home', 'for', 'yourself!', '@chefamandaf', 's', 'Tip', 'for', 'Segmenting', 'Oranges', 'Segmenting', 'your', 'oranges', 'will', 'take', 'your', 'dish', 'up', 'a', 'notch!', '✨@chefamandaf', 'will', 'show', 'you', 'how', 'to', 'do', 'this', 'fancy', '(yet', 'easy!)', 'technique', 'Take', 'her', 'full', 'Dutch', 'Baby', 'with', 'Cranberry', 'Orange', 'Compote', 'class', 'on', 'the', '#FoodNetworkKitchen', 'app', 'Have', 'you', 'entered', 'the', '#WeCookTogether', '#Sweepstakes??', 'Post', 'a', 'photo', 'of', 'a', 'recipe', 'you', 've', 'made', 'from', 'the', 'Food', 'Network', 'Kitchen', 'app', 'and', 'use', 'the', 'hashtags', '#WeCookTogether', '#Sweepstakes', 'for', 'a', 'chance', 'to', 'win', 'an', '@amazonfiretv', 'Stick!', 'We', 'll', 'be', 'picking', 'a', 'winner', 'EVERY', 'DAY', 'through', 'the', 'month', 'of', 'May!', 'Full', 'rules', 'here:', 'foodtv', 'com/FNKGiveaway', 'Class', 'of', 'the', 'Day:', 'Italian', 'PLT', '🥪', 'Amp', 'up', 'your', 'sandwiches', 'with', 'slow-roasted', 'tomatoes', 'and', 'garlic', 'then', 'never', 'look', 'back', '😜', '@sparklessz', 'shows', 'you', 'how', 'to', 'build', 'the', 'perfect', 'sandwich', 'plus', 'shares', 'her', 'recipes', 'for', 'Roasted', 'Garlic', 'Aioli', 'and', 'Pickled', 'Red', 'Onions', 'Learn', 'it', 'all', 'in', 'her', 'class', 'on', 'the', '#FoodNetworkKitchen', 'app!', 'We', 've', 'got', 'a', 'big', 'week', 'of', 'LIVE', 'classes', 'coming', 'up', 'on', 'the', '#FoodNetworkKitchen', 'app!', '👏', 'Swipe', 'to', 'see', 'the', 'full', 'lineup', 'and', 'don', 't', 'forget', 'to', 'set', 'your', 'reminders', 'now!', '@jettila', 's', 'Tip', 'for', 'Coating', 'Noodles', 'The', 'secret', 'to', 'not', 'adding', 'too', 'much', 'oil', 'to', 'Pad', 'See', 'You', 'or', 'fried', 'rice?', '@jettila', 'says', 'to', 'coat', 'the', 'noodles', 'or', 'rice', 'in', 'THIS', 'instead', 'so', 'they', 'don', 't', 'stick', 'to', 'the', 'pan!', '🤯Watch', 'Jet', 's', 'full', 'class', 'on', 'the', '#FoodNetworkKitchen', 'app', 'for', 'more', 'tips', 'SWIPE', '👉👉👉', 'Credit:', '@sweetportfolio', 'INSTALL', 'THE', 'GAME👇👇👇', '——————————————', 'LINK', 'IN', 'BIO', ':', '@foodytops', '👈', 'LINK', 'IN', 'BIO', ':', '@foodytops', '👈', 'LINK', 'IN', 'BIO', ':', '@foodytops', '👈', '——————————————', 'Tag', 'your', 'friends', '👇👇👇', 'SWIPE', '👉👉👉', 'Credit:', '@zeynebin_mutfagiii', 'INSTALL', 'THE', 'GAME👇👇👇', '——————————————', 'LINK', 'IN', 'BIO', ':', '@foodytops', '👈', 'LINK', 'IN', 'BIO', ':', '@foodytops', '👈', 'LINK', 'IN', 'BIO', ':', '@foodytops', '👈', '——————————————', 'Tag', 'your', 'friends', '👇👇👇', 'SWIPE', '👉👉👉', 'Credit:', '@sweetportfolio', 'INSTALL', 'THE', 'GAME👇👇👇', '——————————————', 'LINK', 'IN', 'BIO', ':', '@foodytops', '👈', 'LINK', 'IN', 'BIO', ':', '@foodytops', '👈', 'LINK', 'IN', 'BIO', ':', '@foodytops', '👈', '——————————————', 'Tag', 'your', 'friends', '👇👇👇', 'SWIPE', '👉👉👉', 'Credit:', '@thedoubleeaterz', 'INSTALL', 'THE', 'GAME👇👇👇', '——————————————', 'LINK', 'IN', 'BIO', ':', '@foodytops', '👈', 'LINK', 'IN', 'BIO', ':', '@foodytops', '👈', 'LINK', 'IN', 'BIO', ':', '@foodytops', '👈', '——————————————', 'Tag', 'your', 'friends', '👇👇👇', 'SWIPE', '👉👉👉', 'Credit:', '@thenaughtyfork', 'INSTALL', 'THE', 'GAME👇👇👇', '——————————————', 'LINK', 'IN', 'BIO', ':', '@foodytops', '👈', 'LINK', 'IN', 'BIO', ':', '@foodytops', '👈', 'LINK', 'IN', 'BIO', ':', '@foodytops', '👈', '——————————————', 'Tag', 'your', 'friends', '👇👇👇', 'SWIPE', '👉👉👉', 'Credit:', '@pacikanin_mutfagi', 'INSTALL', 'THE', 'GAME👇👇👇', '——————————————', 'LINK', 'IN', 'BIO', ':', '@foodytops', '👈', 'LINK', 'IN', 'BIO', ':', '@foodytops', '👈', 'LINK', 'IN', 'BIO', ':', '@foodytops', '👈', '——————————————', 'Tag', 'your', 'friends', '👇👇👇', 'SWIPE', '👉👉👉', 'Credit:', '@bogazisi', 'INSTALL', 'THE', 'GAME👇👇👇', '——————————————', 'LINK', 'IN', 'BIO', ':', '@foodytops', '👈', 'LINK', 'IN', 'BIO', ':', '@foodytops', '👈', 'LINK', 'IN', 'BIO', ':', '@foodytops', '👈', '——————————————', 'Tag', 'your', 'friends', '👇👇👇', 'SWIPE', '👉👉👉', 'Credit:', '@vladislav_pancha', 'INSTALL', 'THE', 'GAME👇👇👇', '——————————————', 'LINK', 'IN', 'BIO', ':', '@foodytops', '👈', 'LINK', 'IN', 'BIO', ':', '@foodytops', '👈', 'LINK', 'IN', 'BIO', ':', '@foodytops', '👈', '——————————————', 'Tag', 'your', 'friends', '👇👇👇', 'SWIPE', '👉👉👉', 'Credit:', '@igorochaoficial', 'INSTALL', 'THE', 'GAME👇👇👇', '——————————————', 'LINK', 'IN', 'BIO', ':', '@foodytops', '👈', 'LINK', 'IN', 'BIO', ':', '@foodytops', '👈', 'LINK', 'IN', 'BIO', ':', '@foodytops', '👈', '——————————————', 'Tag', 'your', 'friends', '👇👇👇', 'SWIPE', '👉👉👉', 'Credit:', '@chelsweets', 'INSTALL', 'THE', 'GAME👇👇👇', '——————————————', 'LINK', 'IN', 'BIO', ':', '@foodytops', '👈', 'LINK', 'IN', 'BIO', ':', '@foodytops', '👈', 'LINK', 'IN', 'BIO', ':', '@foodytops', '👈', '——————————————', 'Tag', 'your', 'friends', '👇👇👇']\n"
     ]
    }
   ],
   "source": [
    "print(words)"
   ]
  },
  {
   "cell_type": "code",
   "execution_count": 27,
   "metadata": {},
   "outputs": [],
   "source": [
    "countWords={}\n",
    "for i in words:\n",
    "    if(i in countWords):\n",
    "        countWords[i]+=1\n",
    "    else:\n",
    "        countWords[i]=1"
   ]
  },
  {
   "cell_type": "code",
   "execution_count": 28,
   "metadata": {},
   "outputs": [
    {
     "name": "stdout",
     "output_type": "stream",
     "text": [
      "(664,)\n",
      "(664,)\n"
     ]
    }
   ],
   "source": [
    "# keys = np.fromiter(Samples.keys(), dtype=float)\n",
    "# vals = np.fromiter(Samples.values(), dtype=float)\n",
    "wordArray=np.array(list(countWords.keys()))\n",
    "freqArray=np.array(list(countWords.values()))\n",
    "print(wordArray.shape)\n",
    "print(freqArray.shape)\n",
    "#wordArray=np.reshape(wordArray(wordArray.shape[1],-1))"
   ]
  },
  {
   "cell_type": "code",
   "execution_count": 29,
   "metadata": {},
   "outputs": [
    {
     "name": "stdout",
     "output_type": "stream",
     "text": [
      "                   word  frequency\n",
      "0                Crispy          1\n",
      "1              Tortilla          2\n",
      "2                 Pizza          1\n",
      "3                 (with          4\n",
      "4           @jeffmauro)          1\n",
      "..                  ...        ...\n",
      "659  @pacikanin_mutfagi          1\n",
      "660           @bogazisi          1\n",
      "661   @vladislav_pancha          1\n",
      "662    @igorochaoficial          1\n",
      "663         @chelsweets          1\n",
      "\n",
      "[664 rows x 2 columns]\n"
     ]
    }
   ],
   "source": [
    "dataFrame=pd.DataFrame({'word':wordArray,'frequency':freqArray})\n",
    "print(dataFrame)"
   ]
  },
  {
   "cell_type": "code",
   "execution_count": 30,
   "metadata": {},
   "outputs": [],
   "source": [
    "dataFrame.to_csv('word_freq.csv')"
   ]
  },
  {
   "cell_type": "code",
   "execution_count": 31,
   "metadata": {},
   "outputs": [
    {
     "name": "stdout",
     "output_type": "stream",
     "text": [
      "{'#WeCook': 1, '#TheKitchen': 1, '#SupermarketStakeout': 1, '#DDD': 1, '#Chopped:': 1, '#BakeawayCamp': 1, '#ChoppedChallenge': 2, '#Chopped': 2, '#pizzalover': 1, '#donuts': 9, '#feelingcrafty': 9, '#boomboom': 9, '#breakfastlovers': 9, '#instadiy': 9, '#diyideas': 9, '#diycraft': 9, '#lifehacks': 9, '#lifehack': 9, '#icecreamsundae': 9, '#hacks': 9, '#lifetips': 9, '#oreos': 9, '#helpfultips': 9, '#lifehacking': 9, '#lifehacker': 9, '#diyfood': 9, '#useful': 9, '#diys': 9, '#easydiy': 9, '#diyfun': 9, '#diyvideos': 9, '#diyproject': 9, '#doityourself': 9, '#diytutorial': 9, '#diyfuture': 9, '#diyvideo': 9, '#tiramisulover': 9, '#boredpanda': 9, '#cakelover': 1, '#cupcakes': 2, '#cakeboss': 1, '#nutella': 1, '#chocolatecake': 2, '#chocolatelab': 1, '#1': 1, '#BetterWithAge': 1, '#FoodNetworkKitchen': 9, '#WeCookTogether': 2, '#Sweepstakes??': 1, '#Sweepstakes': 1}\n"
     ]
    }
   ],
   "source": [
    "##HASTAGS\n",
    "hastag={}\n",
    "for i in countWords:\n",
    "    if(i[0]=='#'):\n",
    "        hastag[i]=countWords[i]\n",
    "print(hastag)"
   ]
  },
  {
   "cell_type": "code",
   "execution_count": 32,
   "metadata": {},
   "outputs": [
    {
     "name": "stdout",
     "output_type": "stream",
     "text": [
      "{'#donuts': 9, '#feelingcrafty': 9, '#boomboom': 9, '#breakfastlovers': 9, '#instadiy': 9, '#diyideas': 9, '#diycraft': 9, '#lifehacks': 9, '#lifehack': 9, '#icecreamsundae': 9, '#hacks': 9, '#lifetips': 9, '#oreos': 9, '#helpfultips': 9, '#lifehacking': 9, '#lifehacker': 9, '#diyfood': 9, '#useful': 9, '#diys': 9, '#easydiy': 9, '#diyfun': 9, '#diyvideos': 9, '#diyproject': 9, '#doityourself': 9, '#diytutorial': 9, '#diyfuture': 9, '#diyvideo': 9, '#tiramisulover': 9, '#boredpanda': 9, '#FoodNetworkKitchen': 9, '#ChoppedChallenge': 2, '#Chopped': 2, '#cupcakes': 2, '#chocolatecake': 2, '#WeCookTogether': 2, '#WeCook': 1, '#TheKitchen': 1, '#SupermarketStakeout': 1, '#DDD': 1, '#Chopped:': 1, '#BakeawayCamp': 1, '#pizzalover': 1, '#cakelover': 1, '#cakeboss': 1, '#nutella': 1, '#chocolatelab': 1, '#1': 1, '#BetterWithAge': 1, '#Sweepstakes??': 1, '#Sweepstakes': 1}\n"
     ]
    }
   ],
   "source": [
    "#sorted_d = dict(sorted(d.items(), key=operator.itemgetter(1),reverse=True))\n",
    "hastags=dict(sorted(hastag.items(),key=operator.itemgetter(1),reverse=True))\n",
    "print(hastags)"
   ]
  },
  {
   "cell_type": "code",
   "execution_count": 33,
   "metadata": {},
   "outputs": [
    {
     "name": "stdout",
     "output_type": "stream",
     "text": [
      "#donuts 9\n",
      "#feelingcrafty 9\n",
      "#boomboom 9\n",
      "#breakfastlovers 9\n",
      "#instadiy 9\n"
     ]
    },
    {
     "data": {
      "image/png": "[encoded data removed]",
      "text/plain": [
       "<Figure size 432x288 with 1 Axes>"
      ]
     },
     "metadata": {},
     "output_type": "display_data"
    }
   ],
   "source": [
    "def make_autopct(values):\n",
    "    def my_autopct(pct):\n",
    "        total = sum(values)\n",
    "        val = int(round(pct*total/100.0))\n",
    "        return '{p:.2f}%  ({v:d})'.format(p=pct,v=val)\n",
    "    return my_autopct\n",
    "\n",
    "import matplotlib.pyplot as plt \n",
    " \n",
    "label = []\n",
    "slices = [] \n",
    "count=0\n",
    "for i in hastags.keys():\n",
    "    print(i,hastags[i])\n",
    "    label.append(i)\n",
    "    slices.append(hastags[i])\n",
    "    count+=1\n",
    "    if(count==5):\n",
    "        break\n",
    "  \n",
    "\n",
    "  \n",
    "# color for each label \n",
    "colors = ['r', 'g', 'b', 'y' ,'m'] \n",
    "  \n",
    "# plotting the pie chart \n",
    "plt.pie(slices, labels = label, colors=colors,  \n",
    "        startangle=90, shadow = True, explode = (0.1, 0.1, 0.1, 0.1,0.1), \n",
    "        radius = 2,  autopct=make_autopct(slices)) \n",
    "  \n",
    "# plotting legend \n",
    "#plt.legend() \n",
    "  \n",
    "# showing the plot \n",
    "plt.show() "
   ]
  },
  {
   "cell_type": "code",
   "execution_count": 34,
   "metadata": {},
   "outputs": [],
   "source": [
    "####################################################################################\n",
    "#################### TASK 3\n",
    "####################################################################################\n",
    "# You need to also calculate average followers : likes ratio for the obtained handles.\n",
    "# Followers : Likes ratio is calculated as follows:\n",
    "# Find out the likes of the top 10 posts of the 5 handles obtained earlier.\n",
    "# Calculate the average likes for a handle.\n",
    "# Divide the average likes obtained from the number of followers of the handle to get the average followers:like ratio of each handle.\n",
    "# Create a bar graph to depict the above obtained information."
   ]
  },
  {
   "cell_type": "code",
   "execution_count": 35,
   "metadata": {},
   "outputs": [],
   "source": [
    "\n",
    "def countLikes(handle,num):\n",
    "    openAhandle(handle)\n",
    "    driver.maximize_window()\n",
    "    likes=[]\n",
    "    post1=driver.find_element_by_class_name(\"_9AhH0\")\n",
    "    post1.click()\n",
    "    count=0\n",
    "    while(count<num):\n",
    "        try:\n",
    "            wait=WebDriverWait(driver,3)\n",
    "            viewBtn=wait.until(EC.presence_of_element_located((By.CLASS_NAME,\"vcOH2\")))\n",
    "            viewBtn.click()\n",
    "            likeCount=driver.find_element_by_xpath(\"//div[@class='vJRqr']/span\").text\n",
    "            likes.append(convertIntoInt(likeCount))\n",
    "            driver.find_element_by_class_name(\"QhbhU\").click()\n",
    "        except:\n",
    "            likeCount=driver.find_element_by_xpath(\"//div[@class='Nm9Fw']/button/span\").text\n",
    "            likes.append(convertIntoInt(likeCount))\n",
    "        try:\n",
    "            wait=WebDriverWait(driver,3)\n",
    "            nxtBtn=wait.until(EC.presence_of_element_located((By.XPATH,\"//a[contains(@class,'coreSpriteRightPaginationArrow')]\")))\n",
    "            nxtBtn.click()\n",
    "        except:\n",
    "            print(handle,\": No next Button\")\n",
    "            break\n",
    "        count+=1\n",
    "    return likes"
   ]
  },
  {
   "cell_type": "code",
   "execution_count": 37,
   "metadata": {},
   "outputs": [
    {
     "name": "stdout",
     "output_type": "stream",
     "text": [
      "[3502, 25704, 18464, 6786, 17213, 9302, 4544, 15843, 3584, 19113, 5043, 18862, 17178, 64408, 18873, 7476, 11980, 4438, 18448, 9191, 30440, 26097, 19647, 11019, 5172]\n",
      "[4739, 3228, 4761, 11410, 5490, 3617, 6268, 2760, 4991, 7540, 964, 3300, 4132, 8612, 9296, 12581, 12410, 6046, 4192, 10408, 15811, 8745, 14131, 9916, 3872]\n",
      "[1493, 8236, 2553, 1367, 4843, 8844, 4519, 3268, 5038, 2820, 3473, 9936, 4118, 4966, 4632, 12150, 27331, 4819, 10625, 7743, 9422, 10978, 11991, 3952, 11823]\n",
      "[232, 638, 682, 1373, 1758, 1811, 931, 496, 2152, 739, 738, 1604, 591, 2676, 771, 3314, 702, 6076, 611, 1312, 821, 1477, 2064, 2258, 1053]\n",
      "[970, 2499, 3460, 3521, 5219, 9996, 4577, 10932, 9377, 12179, 23747, 25089, 5978, 12944, 12997, 19629, 16652, 21888, 5147, 4974, 3604, 3730, 5575, 19493, 3535]\n"
     ]
    }
   ],
   "source": [
    "# TOP 5 which have highest followers\n",
    "avgLikes=[]\n",
    "likes=[]\n",
    "count=0\n",
    "for i in followersCount.keys():\n",
    "    a=countLikes(i,25)\n",
    "    avgLikes.append(sum(a)/len(a))\n",
    "    print(a)\n",
    "    likes.append(a)\n",
    "    count+=1\n",
    "    if(count==5):\n",
    "        break"
   ]
  },
  {
   "cell_type": "code",
   "execution_count": 38,
   "metadata": {},
   "outputs": [
    {
     "name": "stdout",
     "output_type": "stream",
     "text": [
      "[15693.08, 7168.8, 7237.6, 1475.2, 9908.48]\n"
     ]
    }
   ],
   "source": [
    "print(avgLikes)"
   ]
  },
  {
   "cell_type": "code",
   "execution_count": 50,
   "metadata": {},
   "outputs": [
    {
     "name": "stdout",
     "output_type": "stream",
     "text": [
      "foodnetwork :> Count of Followers =  10314457 , Average Likes On previous 20 Posts:>  15693.08\n",
      "buzzfeedfood :> Count of Followers =  3750160 , Average Likes On previous 20 Posts:>  7168.8\n",
      "cooking.room :> Count of Followers =  648195 , Average Likes On previous 20 Posts:>  7237.6\n",
      "foodnetworkkitchen :> Count of Followers =  479764 , Average Likes On previous 20 Posts:>  1475.2\n",
      "foodytops :> Count of Followers =  467736 , Average Likes On previous 20 Posts:>  9908.48\n"
     ]
    }
   ],
   "source": [
    "likesFollowersRatio=[]\n",
    "handleName=[]\n",
    "count=0\n",
    "for i in followersCount.keys():\n",
    "    print(i,\":> Count of Followers = \",followersCount[i],\", Average Likes On previous 20 Posts:> \",avgLikes[count])\n",
    "    handleName.append(i)\n",
    "    likesFollowersRatio.append(followersCount[i]/avgLikes[count])\n",
    "    count+=1\n",
    "    if(count==5):\n",
    "        break"
   ]
  },
  {
   "cell_type": "code",
   "execution_count": 51,
   "metadata": {},
   "outputs": [
    {
     "name": "stdout",
     "output_type": "stream",
     "text": [
      "foodnetwork  followers : Likes ratio :>  657.2614808565304\n",
      "buzzfeedfood  followers : Likes ratio :>  523.1224193728378\n",
      "cooking.room  followers : Likes ratio :>  89.55938432629601\n",
      "foodnetworkkitchen  followers : Likes ratio :>  325.2196312364425\n",
      "foodytops  followers : Likes ratio :>  47.205625888128154\n"
     ]
    }
   ],
   "source": [
    "for i in range(5):\n",
    "    print(handleName[i],\" followers : Likes ratio :> \",likesFollowersRatio[i])"
   ]
  },
  {
   "cell_type": "code",
   "execution_count": 64,
   "metadata": {},
   "outputs": [
    {
     "data": {
      "image/png": "[encoded data removed]",
      "text/plain": [
       "<Figure size 640x480 with 1 Axes>"
      ]
     },
     "metadata": {},
     "output_type": "display_data"
    }
   ],
   "source": [
    "import matplotlib.pyplot as plt; plt.rcdefaults()\n",
    "import numpy as np\n",
    "import matplotlib.pyplot as plt\n",
    "\n",
    "objects = tuple(handleName)\n",
    "y_pos = np.arange(len(objects))\n",
    "performance = likesFollowersRatio\n",
    "\n",
    "plt.bar(y_pos, performance, align='center',alpha=0.5)\n",
    "plt.xticks(y_pos, objects,rotation=\"60\")\n",
    "plt.ylabel('ratio')\n",
    "plt.title('INSTA BOT PART_2 TASK_3 FOLLOWERS:LIKE ratio')\n",
    "\n",
    "plt.show()"
   ]
  }
 ],
 "metadata": {
  "kernelspec": {
   "display_name": "Python 3",
   "language": "python",
   "name": "python3"
  },
  "language_info": {
   "codemirror_mode": {
    "name": "ipython",
    "version": 3
   },
   "file_extension": ".py",
   "mimetype": "text/x-python",
   "name": "python",
   "nbconvert_exporter": "python",
   "pygments_lexer": "ipython3",
   "version": "3.8.3"
  }
 },
 "nbformat": 4,
 "nbformat_minor": 4
}
